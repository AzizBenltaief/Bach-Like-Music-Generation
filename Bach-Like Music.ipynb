{
 "cells": [
  {
   "cell_type": "code",
   "id": "initial_id",
   "metadata": {
    "collapsed": true,
    "ExecuteTime": {
     "end_time": "2025-09-02T18:20:28.258512Z",
     "start_time": "2025-09-02T18:20:27.775307Z"
    }
   },
   "source": [
    "import pandas as pd\n",
    "import numpy as np"
   ],
   "outputs": [],
   "execution_count": 2
  },
  {
   "metadata": {
    "ExecuteTime": {
     "end_time": "2025-09-02T18:20:29.067561Z",
     "start_time": "2025-09-02T18:20:29.059326Z"
    }
   },
   "cell_type": "code",
   "source": [
    "import os\n",
    "\n",
    "train_files = sorted([os.path.join('Data','train',f) for f in os.listdir(os.path.join('Data','train')) if f.endswith('.csv')])\n",
    "\n",
    "test_files = sorted([os.path.join('Data','test',f) for f in os.listdir(os.path.join('Data','test')) if f.endswith('.csv')])\n",
    "\n",
    "valid_files = sorted([os.path.join('Data','valid',f) for f in os.listdir(os.path.join('Data','valid')) if f.endswith('.csv')])"
   ],
   "id": "1fb83559d119958f",
   "outputs": [],
   "execution_count": 3
  },
  {
   "metadata": {
    "ExecuteTime": {
     "end_time": "2025-09-02T18:20:30.555847Z",
     "start_time": "2025-09-02T18:20:30.159544Z"
    }
   },
   "cell_type": "code",
   "source": [
    "train_data = [pd.read_csv(f).values.tolist() for f in train_files]\n",
    "\n",
    "test_data = [pd.read_csv(f).values.tolist() for f in test_files]\n",
    "\n",
    "valid_data = [pd.read_csv(f).values.tolist() for f in valid_files]"
   ],
   "id": "ef47fb38a152c1cc",
   "outputs": [],
   "execution_count": 4
  },
  {
   "metadata": {
    "ExecuteTime": {
     "end_time": "2025-09-02T18:20:33.828018Z",
     "start_time": "2025-09-02T18:20:31.190046Z"
    }
   },
   "cell_type": "code",
   "source": [
    "from music21 import stream,chord\n",
    "\n",
    "chorale = train_data[20]\n",
    "\n",
    "s = stream.Stream()\n",
    "for row in chorale:\n",
    "    s.append(chord.Chord([n for n in row if n],quarterLength=1))\n",
    "\n",
    "s.show('midi')"
   ],
   "id": "46b8b99f3bef2ba3",
   "outputs": [
    {
     "data": {
      "text/plain": [
       "<IPython.core.display.HTML object>"
      ],
      "text/html": [
       "\n",
       "        <div id=\"midiPlayerDiv988\"></div>\n",
       "        <link rel=\"stylesheet\" href=\"https://cuthbertLab.github.io/music21j/css/m21.css\">\n",
       "        \n",
       "        <script\n",
       "        src=\"https://cdnjs.cloudflare.com/ajax/libs/require.js/2.3.6/require.min.js\"\n",
       "        ></script>\n",
       "    \n",
       "        <script>\n",
       "        function midiPlayerDiv988_play() {\n",
       "            const rq = require.config({\n",
       "                paths: {\n",
       "                    'music21': 'https://cuthbertLab.github.io/music21j/releases/music21.debug',\n",
       "                }\n",
       "            });\n",
       "            rq(['music21'], function(music21) {\n",
       "                mp = new music21.miditools.MidiPlayer();\n",
       "                mp.addPlayer(\"#midiPlayerDiv988\");\n",
       "                mp.base64Load(\"data:audio/midi;base64,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\");\n",
       "            });\n",
       "        }\n",
       "        if (typeof require === 'undefined') {\n",
       "            setTimeout(midiPlayerDiv988_play, 2000);\n",
       "        } else {\n",
       "            midiPlayerDiv988_play();\n",
       "        }\n",
       "        </script>"
      ]
     },
     "metadata": {},
     "output_type": "display_data"
    }
   ],
   "execution_count": 5
  },
  {
   "metadata": {},
   "cell_type": "markdown",
   "source": "### Preprocessing",
   "id": "5cfca2287c4a4910"
  },
  {
   "metadata": {
    "ExecuteTime": {
     "end_time": "2025-09-02T18:20:35.951888Z",
     "start_time": "2025-09-02T18:20:35.897364Z"
    }
   },
   "cell_type": "code",
   "source": [
    "min_note,max_note =36,81\n",
    "window_size,window_offset,batch_size = 32,16,32\n",
    "\n",
    "def make_xy(chorales):\n",
    "    windows = [c[i:i + window_size+1] for c in chorales for i in range(0,len(c) - window_size,window_offset)]\n",
    "\n",
    "    data = np.array(windows,dtype=int)\n",
    "    data = np.where(data == 0,0,data-min_note + 1)\n",
    "\n",
    "    flat = data.reshape(data.shape[0],-1)\n",
    "\n",
    "    return flat[:, :-1],flat[:, 1:]\n",
    "\n",
    "x_train,y_train = make_xy(train_data)\n",
    "x_test,y_test = make_xy(test_data)\n",
    "x_valid,y_valid = make_xy(valid_data)\n"
   ],
   "id": "9b3b1c1764fe628f",
   "outputs": [],
   "execution_count": 6
  },
  {
   "metadata": {},
   "cell_type": "markdown",
   "source": "### Training the Model",
   "id": "ebe5f025448731e4"
  },
  {
   "metadata": {
    "ExecuteTime": {
     "end_time": "2025-09-02T18:20:40.391984Z",
     "start_time": "2025-09-02T18:20:37.895879Z"
    }
   },
   "cell_type": "code",
   "source": [
    "from tensorflow.keras.models import Sequential\n",
    "from tensorflow.keras.layers import Conv1D,Dense,Embedding,LSTM,Dropout,BatchNormalization\n",
    "from tensorflow.keras.optimizers import Nadam"
   ],
   "id": "fbca0a207f02aa00",
   "outputs": [],
   "execution_count": 7
  },
  {
   "metadata": {
    "ExecuteTime": {
     "end_time": "2025-09-02T18:20:41.870874Z",
     "start_time": "2025-09-02T18:20:41.418783Z"
    }
   },
   "cell_type": "code",
   "source": [
    "model = Sequential()\n",
    "\n",
    "model.add(Embedding(input_dim=47,output_dim=5,input_shape=[None]))\n",
    "model.add(Conv1D(32,kernel_size=2,padding='causal',activation='relu'))\n",
    "model.add(BatchNormalization())\n",
    "model.add(Conv1D(48,kernel_size=2,padding='causal',activation='relu',dilation_rate=2))\n",
    "model.add(BatchNormalization())\n",
    "model.add(Conv1D(64,kernel_size=2,padding='causal',activation='relu',dilation_rate=4))\n",
    "model.add(BatchNormalization())\n",
    "model.add(Conv1D(96,kernel_size=2,padding='causal',activation='relu',dilation_rate=8))\n",
    "model.add(BatchNormalization())\n",
    "model.add(Conv1D(128,kernel_size=2,padding='causal',activation='relu',dilation_rate=16))\n",
    "model.add(BatchNormalization())\n",
    "model.add(Dropout(0.05))\n",
    "model.add(LSTM(256,return_sequences=True))\n",
    "model.add(Dense(47,activation='softmax'))\n",
    "\n",
    "model.summary()"
   ],
   "id": "c78897085e1930aa",
   "outputs": [
    {
     "name": "stderr",
     "output_type": "stream",
     "text": [
      "C:\\Users\\insec\\PycharmProjects\\Bach-Like Music\\.venv\\Lib\\site-packages\\keras\\src\\layers\\core\\embedding.py:100: UserWarning: Do not pass an `input_shape`/`input_dim` argument to a layer. When using Sequential models, prefer using an `Input(shape)` object as the first layer in the model instead.\n",
      "  super().__init__(**kwargs)\n"
     ]
    },
    {
     "data": {
      "text/plain": [
       "\u001B[1mModel: \"sequential\"\u001B[0m\n"
      ],
      "text/html": [
       "<pre style=\"white-space:pre;overflow-x:auto;line-height:normal;font-family:Menlo,'DejaVu Sans Mono',consolas,'Courier New',monospace\"><span style=\"font-weight: bold\">Model: \"sequential\"</span>\n",
       "</pre>\n"
      ]
     },
     "metadata": {},
     "output_type": "display_data"
    },
    {
     "data": {
      "text/plain": [
       "┏━━━━━━━━━━━━━━━━━━━━━━━━━━━━━━━━━┳━━━━━━━━━━━━━━━━━━━━━━━━┳━━━━━━━━━━━━━━━┓\n",
       "┃\u001B[1m \u001B[0m\u001B[1mLayer (type)                   \u001B[0m\u001B[1m \u001B[0m┃\u001B[1m \u001B[0m\u001B[1mOutput Shape          \u001B[0m\u001B[1m \u001B[0m┃\u001B[1m \u001B[0m\u001B[1m      Param #\u001B[0m\u001B[1m \u001B[0m┃\n",
       "┡━━━━━━━━━━━━━━━━━━━━━━━━━━━━━━━━━╇━━━━━━━━━━━━━━━━━━━━━━━━╇━━━━━━━━━━━━━━━┩\n",
       "│ embedding (\u001B[38;5;33mEmbedding\u001B[0m)           │ (\u001B[38;5;45mNone\u001B[0m, \u001B[38;5;45mNone\u001B[0m, \u001B[38;5;34m5\u001B[0m)        │           \u001B[38;5;34m235\u001B[0m │\n",
       "├─────────────────────────────────┼────────────────────────┼───────────────┤\n",
       "│ conv1d (\u001B[38;5;33mConv1D\u001B[0m)                 │ (\u001B[38;5;45mNone\u001B[0m, \u001B[38;5;45mNone\u001B[0m, \u001B[38;5;34m32\u001B[0m)       │           \u001B[38;5;34m352\u001B[0m │\n",
       "├─────────────────────────────────┼────────────────────────┼───────────────┤\n",
       "│ batch_normalization             │ (\u001B[38;5;45mNone\u001B[0m, \u001B[38;5;45mNone\u001B[0m, \u001B[38;5;34m32\u001B[0m)       │           \u001B[38;5;34m128\u001B[0m │\n",
       "│ (\u001B[38;5;33mBatchNormalization\u001B[0m)            │                        │               │\n",
       "├─────────────────────────────────┼────────────────────────┼───────────────┤\n",
       "│ conv1d_1 (\u001B[38;5;33mConv1D\u001B[0m)               │ (\u001B[38;5;45mNone\u001B[0m, \u001B[38;5;45mNone\u001B[0m, \u001B[38;5;34m48\u001B[0m)       │         \u001B[38;5;34m3,120\u001B[0m │\n",
       "├─────────────────────────────────┼────────────────────────┼───────────────┤\n",
       "│ batch_normalization_1           │ (\u001B[38;5;45mNone\u001B[0m, \u001B[38;5;45mNone\u001B[0m, \u001B[38;5;34m48\u001B[0m)       │           \u001B[38;5;34m192\u001B[0m │\n",
       "│ (\u001B[38;5;33mBatchNormalization\u001B[0m)            │                        │               │\n",
       "├─────────────────────────────────┼────────────────────────┼───────────────┤\n",
       "│ conv1d_2 (\u001B[38;5;33mConv1D\u001B[0m)               │ (\u001B[38;5;45mNone\u001B[0m, \u001B[38;5;45mNone\u001B[0m, \u001B[38;5;34m64\u001B[0m)       │         \u001B[38;5;34m6,208\u001B[0m │\n",
       "├─────────────────────────────────┼────────────────────────┼───────────────┤\n",
       "│ batch_normalization_2           │ (\u001B[38;5;45mNone\u001B[0m, \u001B[38;5;45mNone\u001B[0m, \u001B[38;5;34m64\u001B[0m)       │           \u001B[38;5;34m256\u001B[0m │\n",
       "│ (\u001B[38;5;33mBatchNormalization\u001B[0m)            │                        │               │\n",
       "├─────────────────────────────────┼────────────────────────┼───────────────┤\n",
       "│ conv1d_3 (\u001B[38;5;33mConv1D\u001B[0m)               │ (\u001B[38;5;45mNone\u001B[0m, \u001B[38;5;45mNone\u001B[0m, \u001B[38;5;34m96\u001B[0m)       │        \u001B[38;5;34m12,384\u001B[0m │\n",
       "├─────────────────────────────────┼────────────────────────┼───────────────┤\n",
       "│ batch_normalization_3           │ (\u001B[38;5;45mNone\u001B[0m, \u001B[38;5;45mNone\u001B[0m, \u001B[38;5;34m96\u001B[0m)       │           \u001B[38;5;34m384\u001B[0m │\n",
       "│ (\u001B[38;5;33mBatchNormalization\u001B[0m)            │                        │               │\n",
       "├─────────────────────────────────┼────────────────────────┼───────────────┤\n",
       "│ conv1d_4 (\u001B[38;5;33mConv1D\u001B[0m)               │ (\u001B[38;5;45mNone\u001B[0m, \u001B[38;5;45mNone\u001B[0m, \u001B[38;5;34m128\u001B[0m)      │        \u001B[38;5;34m24,704\u001B[0m │\n",
       "├─────────────────────────────────┼────────────────────────┼───────────────┤\n",
       "│ batch_normalization_4           │ (\u001B[38;5;45mNone\u001B[0m, \u001B[38;5;45mNone\u001B[0m, \u001B[38;5;34m128\u001B[0m)      │           \u001B[38;5;34m512\u001B[0m │\n",
       "│ (\u001B[38;5;33mBatchNormalization\u001B[0m)            │                        │               │\n",
       "├─────────────────────────────────┼────────────────────────┼───────────────┤\n",
       "│ dropout (\u001B[38;5;33mDropout\u001B[0m)               │ (\u001B[38;5;45mNone\u001B[0m, \u001B[38;5;45mNone\u001B[0m, \u001B[38;5;34m128\u001B[0m)      │             \u001B[38;5;34m0\u001B[0m │\n",
       "├─────────────────────────────────┼────────────────────────┼───────────────┤\n",
       "│ lstm (\u001B[38;5;33mLSTM\u001B[0m)                     │ (\u001B[38;5;45mNone\u001B[0m, \u001B[38;5;45mNone\u001B[0m, \u001B[38;5;34m256\u001B[0m)      │       \u001B[38;5;34m394,240\u001B[0m │\n",
       "├─────────────────────────────────┼────────────────────────┼───────────────┤\n",
       "│ dense (\u001B[38;5;33mDense\u001B[0m)                   │ (\u001B[38;5;45mNone\u001B[0m, \u001B[38;5;45mNone\u001B[0m, \u001B[38;5;34m47\u001B[0m)       │        \u001B[38;5;34m12,079\u001B[0m │\n",
       "└─────────────────────────────────┴────────────────────────┴───────────────┘\n"
      ],
      "text/html": [
       "<pre style=\"white-space:pre;overflow-x:auto;line-height:normal;font-family:Menlo,'DejaVu Sans Mono',consolas,'Courier New',monospace\">┏━━━━━━━━━━━━━━━━━━━━━━━━━━━━━━━━━┳━━━━━━━━━━━━━━━━━━━━━━━━┳━━━━━━━━━━━━━━━┓\n",
       "┃<span style=\"font-weight: bold\"> Layer (type)                    </span>┃<span style=\"font-weight: bold\"> Output Shape           </span>┃<span style=\"font-weight: bold\">       Param # </span>┃\n",
       "┡━━━━━━━━━━━━━━━━━━━━━━━━━━━━━━━━━╇━━━━━━━━━━━━━━━━━━━━━━━━╇━━━━━━━━━━━━━━━┩\n",
       "│ embedding (<span style=\"color: #0087ff; text-decoration-color: #0087ff\">Embedding</span>)           │ (<span style=\"color: #00d7ff; text-decoration-color: #00d7ff\">None</span>, <span style=\"color: #00d7ff; text-decoration-color: #00d7ff\">None</span>, <span style=\"color: #00af00; text-decoration-color: #00af00\">5</span>)        │           <span style=\"color: #00af00; text-decoration-color: #00af00\">235</span> │\n",
       "├─────────────────────────────────┼────────────────────────┼───────────────┤\n",
       "│ conv1d (<span style=\"color: #0087ff; text-decoration-color: #0087ff\">Conv1D</span>)                 │ (<span style=\"color: #00d7ff; text-decoration-color: #00d7ff\">None</span>, <span style=\"color: #00d7ff; text-decoration-color: #00d7ff\">None</span>, <span style=\"color: #00af00; text-decoration-color: #00af00\">32</span>)       │           <span style=\"color: #00af00; text-decoration-color: #00af00\">352</span> │\n",
       "├─────────────────────────────────┼────────────────────────┼───────────────┤\n",
       "│ batch_normalization             │ (<span style=\"color: #00d7ff; text-decoration-color: #00d7ff\">None</span>, <span style=\"color: #00d7ff; text-decoration-color: #00d7ff\">None</span>, <span style=\"color: #00af00; text-decoration-color: #00af00\">32</span>)       │           <span style=\"color: #00af00; text-decoration-color: #00af00\">128</span> │\n",
       "│ (<span style=\"color: #0087ff; text-decoration-color: #0087ff\">BatchNormalization</span>)            │                        │               │\n",
       "├─────────────────────────────────┼────────────────────────┼───────────────┤\n",
       "│ conv1d_1 (<span style=\"color: #0087ff; text-decoration-color: #0087ff\">Conv1D</span>)               │ (<span style=\"color: #00d7ff; text-decoration-color: #00d7ff\">None</span>, <span style=\"color: #00d7ff; text-decoration-color: #00d7ff\">None</span>, <span style=\"color: #00af00; text-decoration-color: #00af00\">48</span>)       │         <span style=\"color: #00af00; text-decoration-color: #00af00\">3,120</span> │\n",
       "├─────────────────────────────────┼────────────────────────┼───────────────┤\n",
       "│ batch_normalization_1           │ (<span style=\"color: #00d7ff; text-decoration-color: #00d7ff\">None</span>, <span style=\"color: #00d7ff; text-decoration-color: #00d7ff\">None</span>, <span style=\"color: #00af00; text-decoration-color: #00af00\">48</span>)       │           <span style=\"color: #00af00; text-decoration-color: #00af00\">192</span> │\n",
       "│ (<span style=\"color: #0087ff; text-decoration-color: #0087ff\">BatchNormalization</span>)            │                        │               │\n",
       "├─────────────────────────────────┼────────────────────────┼───────────────┤\n",
       "│ conv1d_2 (<span style=\"color: #0087ff; text-decoration-color: #0087ff\">Conv1D</span>)               │ (<span style=\"color: #00d7ff; text-decoration-color: #00d7ff\">None</span>, <span style=\"color: #00d7ff; text-decoration-color: #00d7ff\">None</span>, <span style=\"color: #00af00; text-decoration-color: #00af00\">64</span>)       │         <span style=\"color: #00af00; text-decoration-color: #00af00\">6,208</span> │\n",
       "├─────────────────────────────────┼────────────────────────┼───────────────┤\n",
       "│ batch_normalization_2           │ (<span style=\"color: #00d7ff; text-decoration-color: #00d7ff\">None</span>, <span style=\"color: #00d7ff; text-decoration-color: #00d7ff\">None</span>, <span style=\"color: #00af00; text-decoration-color: #00af00\">64</span>)       │           <span style=\"color: #00af00; text-decoration-color: #00af00\">256</span> │\n",
       "│ (<span style=\"color: #0087ff; text-decoration-color: #0087ff\">BatchNormalization</span>)            │                        │               │\n",
       "├─────────────────────────────────┼────────────────────────┼───────────────┤\n",
       "│ conv1d_3 (<span style=\"color: #0087ff; text-decoration-color: #0087ff\">Conv1D</span>)               │ (<span style=\"color: #00d7ff; text-decoration-color: #00d7ff\">None</span>, <span style=\"color: #00d7ff; text-decoration-color: #00d7ff\">None</span>, <span style=\"color: #00af00; text-decoration-color: #00af00\">96</span>)       │        <span style=\"color: #00af00; text-decoration-color: #00af00\">12,384</span> │\n",
       "├─────────────────────────────────┼────────────────────────┼───────────────┤\n",
       "│ batch_normalization_3           │ (<span style=\"color: #00d7ff; text-decoration-color: #00d7ff\">None</span>, <span style=\"color: #00d7ff; text-decoration-color: #00d7ff\">None</span>, <span style=\"color: #00af00; text-decoration-color: #00af00\">96</span>)       │           <span style=\"color: #00af00; text-decoration-color: #00af00\">384</span> │\n",
       "│ (<span style=\"color: #0087ff; text-decoration-color: #0087ff\">BatchNormalization</span>)            │                        │               │\n",
       "├─────────────────────────────────┼────────────────────────┼───────────────┤\n",
       "│ conv1d_4 (<span style=\"color: #0087ff; text-decoration-color: #0087ff\">Conv1D</span>)               │ (<span style=\"color: #00d7ff; text-decoration-color: #00d7ff\">None</span>, <span style=\"color: #00d7ff; text-decoration-color: #00d7ff\">None</span>, <span style=\"color: #00af00; text-decoration-color: #00af00\">128</span>)      │        <span style=\"color: #00af00; text-decoration-color: #00af00\">24,704</span> │\n",
       "├─────────────────────────────────┼────────────────────────┼───────────────┤\n",
       "│ batch_normalization_4           │ (<span style=\"color: #00d7ff; text-decoration-color: #00d7ff\">None</span>, <span style=\"color: #00d7ff; text-decoration-color: #00d7ff\">None</span>, <span style=\"color: #00af00; text-decoration-color: #00af00\">128</span>)      │           <span style=\"color: #00af00; text-decoration-color: #00af00\">512</span> │\n",
       "│ (<span style=\"color: #0087ff; text-decoration-color: #0087ff\">BatchNormalization</span>)            │                        │               │\n",
       "├─────────────────────────────────┼────────────────────────┼───────────────┤\n",
       "│ dropout (<span style=\"color: #0087ff; text-decoration-color: #0087ff\">Dropout</span>)               │ (<span style=\"color: #00d7ff; text-decoration-color: #00d7ff\">None</span>, <span style=\"color: #00d7ff; text-decoration-color: #00d7ff\">None</span>, <span style=\"color: #00af00; text-decoration-color: #00af00\">128</span>)      │             <span style=\"color: #00af00; text-decoration-color: #00af00\">0</span> │\n",
       "├─────────────────────────────────┼────────────────────────┼───────────────┤\n",
       "│ lstm (<span style=\"color: #0087ff; text-decoration-color: #0087ff\">LSTM</span>)                     │ (<span style=\"color: #00d7ff; text-decoration-color: #00d7ff\">None</span>, <span style=\"color: #00d7ff; text-decoration-color: #00d7ff\">None</span>, <span style=\"color: #00af00; text-decoration-color: #00af00\">256</span>)      │       <span style=\"color: #00af00; text-decoration-color: #00af00\">394,240</span> │\n",
       "├─────────────────────────────────┼────────────────────────┼───────────────┤\n",
       "│ dense (<span style=\"color: #0087ff; text-decoration-color: #0087ff\">Dense</span>)                   │ (<span style=\"color: #00d7ff; text-decoration-color: #00d7ff\">None</span>, <span style=\"color: #00d7ff; text-decoration-color: #00d7ff\">None</span>, <span style=\"color: #00af00; text-decoration-color: #00af00\">47</span>)       │        <span style=\"color: #00af00; text-decoration-color: #00af00\">12,079</span> │\n",
       "└─────────────────────────────────┴────────────────────────┴───────────────┘\n",
       "</pre>\n"
      ]
     },
     "metadata": {},
     "output_type": "display_data"
    },
    {
     "data": {
      "text/plain": [
       "\u001B[1m Total params: \u001B[0m\u001B[38;5;34m454,794\u001B[0m (1.73 MB)\n"
      ],
      "text/html": [
       "<pre style=\"white-space:pre;overflow-x:auto;line-height:normal;font-family:Menlo,'DejaVu Sans Mono',consolas,'Courier New',monospace\"><span style=\"font-weight: bold\"> Total params: </span><span style=\"color: #00af00; text-decoration-color: #00af00\">454,794</span> (1.73 MB)\n",
       "</pre>\n"
      ]
     },
     "metadata": {},
     "output_type": "display_data"
    },
    {
     "data": {
      "text/plain": [
       "\u001B[1m Trainable params: \u001B[0m\u001B[38;5;34m454,058\u001B[0m (1.73 MB)\n"
      ],
      "text/html": [
       "<pre style=\"white-space:pre;overflow-x:auto;line-height:normal;font-family:Menlo,'DejaVu Sans Mono',consolas,'Courier New',monospace\"><span style=\"font-weight: bold\"> Trainable params: </span><span style=\"color: #00af00; text-decoration-color: #00af00\">454,058</span> (1.73 MB)\n",
       "</pre>\n"
      ]
     },
     "metadata": {},
     "output_type": "display_data"
    },
    {
     "data": {
      "text/plain": [
       "\u001B[1m Non-trainable params: \u001B[0m\u001B[38;5;34m736\u001B[0m (2.88 KB)\n"
      ],
      "text/html": [
       "<pre style=\"white-space:pre;overflow-x:auto;line-height:normal;font-family:Menlo,'DejaVu Sans Mono',consolas,'Courier New',monospace\"><span style=\"font-weight: bold\"> Non-trainable params: </span><span style=\"color: #00af00; text-decoration-color: #00af00\">736</span> (2.88 KB)\n",
       "</pre>\n"
      ]
     },
     "metadata": {},
     "output_type": "display_data"
    }
   ],
   "execution_count": 8
  },
  {
   "metadata": {
    "ExecuteTime": {
     "end_time": "2025-09-02T18:25:22.406587Z",
     "start_time": "2025-09-02T18:20:44.616572Z"
    }
   },
   "cell_type": "code",
   "source": [
    "optimizer = Nadam(learning_rate=1e-3)\n",
    "model.compile(loss='sparse_categorical_crossentropy',optimizer=optimizer,metrics=['accuracy'])\n",
    "model.fit(x_train,y_train,epochs=20,validation_data=(x_valid,y_valid),batch_size=batch_size)"
   ],
   "id": "1984861ea2eb5984",
   "outputs": [
    {
     "name": "stdout",
     "output_type": "stream",
     "text": [
      "Epoch 1/20\n",
      "\u001B[1m98/98\u001B[0m \u001B[32m━━━━━━━━━━━━━━━━━━━━\u001B[0m\u001B[37m\u001B[0m \u001B[1m22s\u001B[0m 180ms/step - accuracy: 0.5335 - loss: 1.8055 - val_accuracy: 0.0233 - val_loss: 4.0191\n",
      "Epoch 2/20\n",
      "\u001B[1m98/98\u001B[0m \u001B[32m━━━━━━━━━━━━━━━━━━━━\u001B[0m\u001B[37m\u001B[0m \u001B[1m16s\u001B[0m 163ms/step - accuracy: 0.7714 - loss: 0.8554 - val_accuracy: 0.0277 - val_loss: 5.5791\n",
      "Epoch 3/20\n",
      "\u001B[1m98/98\u001B[0m \u001B[32m━━━━━━━━━━━━━━━━━━━━\u001B[0m\u001B[37m\u001B[0m \u001B[1m14s\u001B[0m 139ms/step - accuracy: 0.7980 - loss: 0.7160 - val_accuracy: 0.0384 - val_loss: 5.2194\n",
      "Epoch 4/20\n",
      "\u001B[1m98/98\u001B[0m \u001B[32m━━━━━━━━━━━━━━━━━━━━\u001B[0m\u001B[37m\u001B[0m \u001B[1m13s\u001B[0m 132ms/step - accuracy: 0.8122 - loss: 0.6468 - val_accuracy: 0.0736 - val_loss: 4.0877\n",
      "Epoch 5/20\n",
      "\u001B[1m98/98\u001B[0m \u001B[32m━━━━━━━━━━━━━━━━━━━━\u001B[0m\u001B[37m\u001B[0m \u001B[1m13s\u001B[0m 133ms/step - accuracy: 0.8242 - loss: 0.5962 - val_accuracy: 0.2506 - val_loss: 2.5513\n",
      "Epoch 6/20\n",
      "\u001B[1m98/98\u001B[0m \u001B[32m━━━━━━━━━━━━━━━━━━━━\u001B[0m\u001B[37m\u001B[0m \u001B[1m13s\u001B[0m 138ms/step - accuracy: 0.8320 - loss: 0.5596 - val_accuracy: 0.5081 - val_loss: 1.5720\n",
      "Epoch 7/20\n",
      "\u001B[1m98/98\u001B[0m \u001B[32m━━━━━━━━━━━━━━━━━━━━\u001B[0m\u001B[37m\u001B[0m \u001B[1m15s\u001B[0m 149ms/step - accuracy: 0.8414 - loss: 0.5254 - val_accuracy: 0.7813 - val_loss: 0.7391\n",
      "Epoch 8/20\n",
      "\u001B[1m98/98\u001B[0m \u001B[32m━━━━━━━━━━━━━━━━━━━━\u001B[0m\u001B[37m\u001B[0m \u001B[1m13s\u001B[0m 128ms/step - accuracy: 0.8489 - loss: 0.4956 - val_accuracy: 0.8187 - val_loss: 0.6153\n",
      "Epoch 9/20\n",
      "\u001B[1m98/98\u001B[0m \u001B[32m━━━━━━━━━━━━━━━━━━━━\u001B[0m\u001B[37m\u001B[0m \u001B[1m12s\u001B[0m 126ms/step - accuracy: 0.8556 - loss: 0.4707 - val_accuracy: 0.8212 - val_loss: 0.6016\n",
      "Epoch 10/20\n",
      "\u001B[1m98/98\u001B[0m \u001B[32m━━━━━━━━━━━━━━━━━━━━\u001B[0m\u001B[37m\u001B[0m \u001B[1m13s\u001B[0m 129ms/step - accuracy: 0.8630 - loss: 0.4456 - val_accuracy: 0.8261 - val_loss: 0.5918\n",
      "Epoch 11/20\n",
      "\u001B[1m98/98\u001B[0m \u001B[32m━━━━━━━━━━━━━━━━━━━━\u001B[0m\u001B[37m\u001B[0m \u001B[1m13s\u001B[0m 136ms/step - accuracy: 0.8690 - loss: 0.4252 - val_accuracy: 0.8177 - val_loss: 0.6192\n",
      "Epoch 12/20\n",
      "\u001B[1m98/98\u001B[0m \u001B[32m━━━━━━━━━━━━━━━━━━━━\u001B[0m\u001B[37m\u001B[0m \u001B[1m13s\u001B[0m 134ms/step - accuracy: 0.8742 - loss: 0.4062 - val_accuracy: 0.8226 - val_loss: 0.5963\n",
      "Epoch 13/20\n",
      "\u001B[1m98/98\u001B[0m \u001B[32m━━━━━━━━━━━━━━━━━━━━\u001B[0m\u001B[37m\u001B[0m \u001B[1m13s\u001B[0m 137ms/step - accuracy: 0.8805 - loss: 0.3848 - val_accuracy: 0.8253 - val_loss: 0.5975\n",
      "Epoch 14/20\n",
      "\u001B[1m98/98\u001B[0m \u001B[32m━━━━━━━━━━━━━━━━━━━━\u001B[0m\u001B[37m\u001B[0m \u001B[1m13s\u001B[0m 135ms/step - accuracy: 0.8856 - loss: 0.3678 - val_accuracy: 0.8245 - val_loss: 0.5952\n",
      "Epoch 15/20\n",
      "\u001B[1m98/98\u001B[0m \u001B[32m━━━━━━━━━━━━━━━━━━━━\u001B[0m\u001B[37m\u001B[0m \u001B[1m13s\u001B[0m 132ms/step - accuracy: 0.8907 - loss: 0.3491 - val_accuracy: 0.8239 - val_loss: 0.6025\n",
      "Epoch 16/20\n",
      "\u001B[1m98/98\u001B[0m \u001B[32m━━━━━━━━━━━━━━━━━━━━\u001B[0m\u001B[37m\u001B[0m \u001B[1m14s\u001B[0m 142ms/step - accuracy: 0.8963 - loss: 0.3332 - val_accuracy: 0.8231 - val_loss: 0.6061\n",
      "Epoch 17/20\n",
      "\u001B[1m98/98\u001B[0m \u001B[32m━━━━━━━━━━━━━━━━━━━━\u001B[0m\u001B[37m\u001B[0m \u001B[1m14s\u001B[0m 141ms/step - accuracy: 0.9004 - loss: 0.3180 - val_accuracy: 0.8241 - val_loss: 0.6109\n",
      "Epoch 18/20\n",
      "\u001B[1m98/98\u001B[0m \u001B[32m━━━━━━━━━━━━━━━━━━━━\u001B[0m\u001B[37m\u001B[0m \u001B[1m14s\u001B[0m 141ms/step - accuracy: 0.9044 - loss: 0.3046 - val_accuracy: 0.8235 - val_loss: 0.6186\n",
      "Epoch 19/20\n",
      "\u001B[1m98/98\u001B[0m \u001B[32m━━━━━━━━━━━━━━━━━━━━\u001B[0m\u001B[37m\u001B[0m \u001B[1m13s\u001B[0m 133ms/step - accuracy: 0.9089 - loss: 0.2910 - val_accuracy: 0.8206 - val_loss: 0.6275\n",
      "Epoch 20/20\n",
      "\u001B[1m98/98\u001B[0m \u001B[32m━━━━━━━━━━━━━━━━━━━━\u001B[0m\u001B[37m\u001B[0m \u001B[1m13s\u001B[0m 134ms/step - accuracy: 0.9127 - loss: 0.2790 - val_accuracy: 0.8211 - val_loss: 0.6374\n"
     ]
    },
    {
     "data": {
      "text/plain": [
       "<keras.src.callbacks.history.History at 0x1bf4dee1250>"
      ]
     },
     "execution_count": 9,
     "metadata": {},
     "output_type": "execute_result"
    }
   ],
   "execution_count": 9
  },
  {
   "metadata": {},
   "cell_type": "markdown",
   "source": "### Generating Music",
   "id": "b6c1df77c5ee0b1c"
  },
  {
   "metadata": {
    "ExecuteTime": {
     "end_time": "2025-09-02T18:29:41.141983Z",
     "start_time": "2025-09-02T18:29:41.136678Z"
    }
   },
   "cell_type": "code",
   "source": [
    "def sample_next_note(probs):\n",
    "    probabilities = np.asarray(probs,dtype=float)\n",
    "\n",
    "    prob_sum = probabilities.sum()\n",
    "\n",
    "    if prob_sum <= 0 or not np.isfinite(prob_sum):\n",
    "        return int(np.argmax(probabilities))\n",
    "\n",
    "    probabilities /= prob_sum\n",
    "\n",
    "    return np.random.choice(len(probabilities), p=probabilities)\n",
    "\n"
   ],
   "id": "8d4da0659f36f810",
   "outputs": [],
   "execution_count": 10
  },
  {
   "metadata": {
    "ExecuteTime": {
     "end_time": "2025-09-02T18:38:32.773611Z",
     "start_time": "2025-09-02T18:38:32.767611Z"
    }
   },
   "cell_type": "code",
   "source": [
    "def generate_chorale(model,seed_chrods,length):\n",
    "    token_sequence = np.array(seed_chrods,dtype=int)\n",
    "    token_sequence = np.where(token_sequence == 0,0,token_sequence - min_note + 1)\n",
    "    token_sequence = token_sequence.reshape(1,-1)\n",
    "\n",
    "    for _ in range(length * 4):\n",
    "        next_token_probabilities = model.predict(token_sequence)[0,-1]\n",
    "        next_token = sample_next_note(next_token_probabilities)\n",
    "        token_sequence = np.concatenate(([token_sequence,[[next_token]]]),axis=1)\n",
    "\n",
    "    token_sequence = np.where(token_sequence == 0,0,token_sequence + min_note - 1)\n",
    "    return token_sequence.reshape(-1,4)"
   ],
   "id": "a3e9b275544f9fc8",
   "outputs": [],
   "execution_count": 17
  },
  {
   "metadata": {
    "ExecuteTime": {
     "end_time": "2025-09-02T18:38:33.537537Z",
     "start_time": "2025-09-02T18:38:33.434329Z"
    }
   },
   "cell_type": "code",
   "source": [
    "seed_chords = test_data[2][:8]\n",
    "\n",
    "chorale = seed_chords\n",
    "s=stream.Stream()\n",
    "for row in chorale:\n",
    "    s.append(chord.Chord([n for n in row if n],quarterLength=1))\n",
    "\n",
    "s.show('midi')"
   ],
   "id": "7bb3e1a273f93a56",
   "outputs": [
    {
     "data": {
      "text/plain": [
       "<IPython.core.display.HTML object>"
      ],
      "text/html": [
       "\n",
       "        <div id=\"midiPlayerDiv1135\"></div>\n",
       "        <link rel=\"stylesheet\" href=\"https://cuthbertLab.github.io/music21j/css/m21.css\">\n",
       "        \n",
       "        <script\n",
       "        src=\"https://cdnjs.cloudflare.com/ajax/libs/require.js/2.3.6/require.min.js\"\n",
       "        ></script>\n",
       "    \n",
       "        <script>\n",
       "        function midiPlayerDiv1135_play() {\n",
       "            const rq = require.config({\n",
       "                paths: {\n",
       "                    'music21': 'https://cuthbertLab.github.io/music21j/releases/music21.debug',\n",
       "                }\n",
       "            });\n",
       "            rq(['music21'], function(music21) {\n",
       "                mp = new music21.miditools.MidiPlayer();\n",
       "                mp.addPlayer(\"#midiPlayerDiv1135\");\n",
       "                mp.base64Load(\"data:audio/midi;base64,TVRoZAAAAAYAAQACJ2BNVHJrAAAAFAD/UQMHoSAA/1gEBAIYCM5g/y8ATVRyawAAARYA/wMAAOAAQM5gkElaAJBEWgCQPVoAkDVazmCASQAAgEQAAIA9AACANQAAkElaAJBEWgCQPVoAkDVazmCASQAAgEQAAIA9AACANQAAkElaAJBEWgCQPVoAkDVazmCASQAAgEQAAIA9AACANQAAkElaAJBEWgCQPVoAkDVazmCASQAAgEQAAIA9AACANQAAkEVaAJBCWgCQPVoAkDZazmCARQAAgEIAAIA9AACANgAAkEVaAJBCWgCQPVoAkDZazmCARQAAgEIAAIA9AACANgAAkEVaAJBCWgCQPVoAkDZazmCARQAAgEIAAIA9AACANgAAkEVaAJBCWgCQPVoAkDZazmCARQAAgEIAAIA9AACANgDOYP8vAA==\");\n",
       "            });\n",
       "        }\n",
       "        if (typeof require === 'undefined') {\n",
       "            setTimeout(midiPlayerDiv1135_play, 2000);\n",
       "        } else {\n",
       "            midiPlayerDiv1135_play();\n",
       "        }\n",
       "        </script>"
      ]
     },
     "metadata": {},
     "output_type": "display_data"
    }
   ],
   "execution_count": 18
  },
  {
   "metadata": {
    "ExecuteTime": {
     "end_time": "2025-09-02T18:39:00.163464Z",
     "start_time": "2025-09-02T18:38:34.338936Z"
    }
   },
   "cell_type": "code",
   "source": [
    "seed_chords = test_data[2][8:]\n",
    "new_chorale = generate_chorale(model,seed_chords,56)"
   ],
   "id": "a05c1cf819fcee7e",
   "outputs": [
    {
     "name": "stdout",
     "output_type": "stream",
     "text": [
      "\u001B[1m1/1\u001B[0m \u001B[32m━━━━━━━━━━━━━━━━━━━━\u001B[0m\u001B[37m\u001B[0m \u001B[1m0s\u001B[0m 73ms/step\n",
      "\u001B[1m1/1\u001B[0m \u001B[32m━━━━━━━━━━━━━━━━━━━━\u001B[0m\u001B[37m\u001B[0m \u001B[1m0s\u001B[0m 393ms/step\n",
      "\u001B[1m1/1\u001B[0m \u001B[32m━━━━━━━━━━━━━━━━━━━━\u001B[0m\u001B[37m\u001B[0m \u001B[1m0s\u001B[0m 66ms/step\n",
      "\u001B[1m1/1\u001B[0m \u001B[32m━━━━━━━━━━━━━━━━━━━━\u001B[0m\u001B[37m\u001B[0m \u001B[1m0s\u001B[0m 74ms/step\n",
      "\u001B[1m1/1\u001B[0m \u001B[32m━━━━━━━━━━━━━━━━━━━━\u001B[0m\u001B[37m\u001B[0m \u001B[1m0s\u001B[0m 63ms/step\n",
      "\u001B[1m1/1\u001B[0m \u001B[32m━━━━━━━━━━━━━━━━━━━━\u001B[0m\u001B[37m\u001B[0m \u001B[1m0s\u001B[0m 67ms/step\n",
      "\u001B[1m1/1\u001B[0m \u001B[32m━━━━━━━━━━━━━━━━━━━━\u001B[0m\u001B[37m\u001B[0m \u001B[1m0s\u001B[0m 83ms/step\n",
      "\u001B[1m1/1\u001B[0m \u001B[32m━━━━━━━━━━━━━━━━━━━━\u001B[0m\u001B[37m\u001B[0m \u001B[1m0s\u001B[0m 71ms/step\n",
      "\u001B[1m1/1\u001B[0m \u001B[32m━━━━━━━━━━━━━━━━━━━━\u001B[0m\u001B[37m\u001B[0m \u001B[1m0s\u001B[0m 63ms/step\n",
      "\u001B[1m1/1\u001B[0m \u001B[32m━━━━━━━━━━━━━━━━━━━━\u001B[0m\u001B[37m\u001B[0m \u001B[1m0s\u001B[0m 74ms/step\n",
      "\u001B[1m1/1\u001B[0m \u001B[32m━━━━━━━━━━━━━━━━━━━━\u001B[0m\u001B[37m\u001B[0m \u001B[1m0s\u001B[0m 68ms/step\n",
      "\u001B[1m1/1\u001B[0m \u001B[32m━━━━━━━━━━━━━━━━━━━━\u001B[0m\u001B[37m\u001B[0m \u001B[1m0s\u001B[0m 68ms/step\n",
      "\u001B[1m1/1\u001B[0m \u001B[32m━━━━━━━━━━━━━━━━━━━━\u001B[0m\u001B[37m\u001B[0m \u001B[1m0s\u001B[0m 64ms/step\n",
      "\u001B[1m1/1\u001B[0m \u001B[32m━━━━━━━━━━━━━━━━━━━━\u001B[0m\u001B[37m\u001B[0m \u001B[1m0s\u001B[0m 62ms/step\n",
      "\u001B[1m1/1\u001B[0m \u001B[32m━━━━━━━━━━━━━━━━━━━━\u001B[0m\u001B[37m\u001B[0m \u001B[1m0s\u001B[0m 65ms/step\n",
      "\u001B[1m1/1\u001B[0m \u001B[32m━━━━━━━━━━━━━━━━━━━━\u001B[0m\u001B[37m\u001B[0m \u001B[1m0s\u001B[0m 73ms/step\n",
      "\u001B[1m1/1\u001B[0m \u001B[32m━━━━━━━━━━━━━━━━━━━━\u001B[0m\u001B[37m\u001B[0m \u001B[1m0s\u001B[0m 85ms/step\n",
      "\u001B[1m1/1\u001B[0m \u001B[32m━━━━━━━━━━━━━━━━━━━━\u001B[0m\u001B[37m\u001B[0m \u001B[1m0s\u001B[0m 69ms/step\n",
      "\u001B[1m1/1\u001B[0m \u001B[32m━━━━━━━━━━━━━━━━━━━━\u001B[0m\u001B[37m\u001B[0m \u001B[1m0s\u001B[0m 64ms/step\n",
      "\u001B[1m1/1\u001B[0m \u001B[32m━━━━━━━━━━━━━━━━━━━━\u001B[0m\u001B[37m\u001B[0m \u001B[1m0s\u001B[0m 66ms/step\n",
      "\u001B[1m1/1\u001B[0m \u001B[32m━━━━━━━━━━━━━━━━━━━━\u001B[0m\u001B[37m\u001B[0m \u001B[1m0s\u001B[0m 67ms/step\n",
      "\u001B[1m1/1\u001B[0m \u001B[32m━━━━━━━━━━━━━━━━━━━━\u001B[0m\u001B[37m\u001B[0m \u001B[1m0s\u001B[0m 77ms/step\n",
      "\u001B[1m1/1\u001B[0m \u001B[32m━━━━━━━━━━━━━━━━━━━━\u001B[0m\u001B[37m\u001B[0m \u001B[1m0s\u001B[0m 64ms/step\n",
      "\u001B[1m1/1\u001B[0m \u001B[32m━━━━━━━━━━━━━━━━━━━━\u001B[0m\u001B[37m\u001B[0m \u001B[1m0s\u001B[0m 64ms/step\n",
      "\u001B[1m1/1\u001B[0m \u001B[32m━━━━━━━━━━━━━━━━━━━━\u001B[0m\u001B[37m\u001B[0m \u001B[1m0s\u001B[0m 65ms/step\n",
      "\u001B[1m1/1\u001B[0m \u001B[32m━━━━━━━━━━━━━━━━━━━━\u001B[0m\u001B[37m\u001B[0m \u001B[1m0s\u001B[0m 76ms/step\n",
      "\u001B[1m1/1\u001B[0m \u001B[32m━━━━━━━━━━━━━━━━━━━━\u001B[0m\u001B[37m\u001B[0m \u001B[1m0s\u001B[0m 72ms/step\n",
      "\u001B[1m1/1\u001B[0m \u001B[32m━━━━━━━━━━━━━━━━━━━━\u001B[0m\u001B[37m\u001B[0m \u001B[1m0s\u001B[0m 77ms/step\n",
      "\u001B[1m1/1\u001B[0m \u001B[32m━━━━━━━━━━━━━━━━━━━━\u001B[0m\u001B[37m\u001B[0m \u001B[1m0s\u001B[0m 64ms/step\n",
      "\u001B[1m1/1\u001B[0m \u001B[32m━━━━━━━━━━━━━━━━━━━━\u001B[0m\u001B[37m\u001B[0m \u001B[1m0s\u001B[0m 72ms/step\n",
      "\u001B[1m1/1\u001B[0m \u001B[32m━━━━━━━━━━━━━━━━━━━━\u001B[0m\u001B[37m\u001B[0m \u001B[1m0s\u001B[0m 69ms/step\n",
      "\u001B[1m1/1\u001B[0m \u001B[32m━━━━━━━━━━━━━━━━━━━━\u001B[0m\u001B[37m\u001B[0m \u001B[1m0s\u001B[0m 74ms/step\n",
      "\u001B[1m1/1\u001B[0m \u001B[32m━━━━━━━━━━━━━━━━━━━━\u001B[0m\u001B[37m\u001B[0m \u001B[1m0s\u001B[0m 69ms/step\n",
      "\u001B[1m1/1\u001B[0m \u001B[32m━━━━━━━━━━━━━━━━━━━━\u001B[0m\u001B[37m\u001B[0m \u001B[1m0s\u001B[0m 81ms/step\n",
      "\u001B[1m1/1\u001B[0m \u001B[32m━━━━━━━━━━━━━━━━━━━━\u001B[0m\u001B[37m\u001B[0m \u001B[1m0s\u001B[0m 80ms/step\n",
      "\u001B[1m1/1\u001B[0m \u001B[32m━━━━━━━━━━━━━━━━━━━━\u001B[0m\u001B[37m\u001B[0m \u001B[1m0s\u001B[0m 114ms/step\n",
      "\u001B[1m1/1\u001B[0m \u001B[32m━━━━━━━━━━━━━━━━━━━━\u001B[0m\u001B[37m\u001B[0m \u001B[1m0s\u001B[0m 112ms/step\n",
      "\u001B[1m1/1\u001B[0m \u001B[32m━━━━━━━━━━━━━━━━━━━━\u001B[0m\u001B[37m\u001B[0m \u001B[1m0s\u001B[0m 80ms/step\n",
      "\u001B[1m1/1\u001B[0m \u001B[32m━━━━━━━━━━━━━━━━━━━━\u001B[0m\u001B[37m\u001B[0m \u001B[1m0s\u001B[0m 84ms/step\n",
      "\u001B[1m1/1\u001B[0m \u001B[32m━━━━━━━━━━━━━━━━━━━━\u001B[0m\u001B[37m\u001B[0m \u001B[1m0s\u001B[0m 141ms/step\n",
      "\u001B[1m1/1\u001B[0m \u001B[32m━━━━━━━━━━━━━━━━━━━━\u001B[0m\u001B[37m\u001B[0m \u001B[1m0s\u001B[0m 74ms/step\n",
      "\u001B[1m1/1\u001B[0m \u001B[32m━━━━━━━━━━━━━━━━━━━━\u001B[0m\u001B[37m\u001B[0m \u001B[1m0s\u001B[0m 104ms/step\n",
      "\u001B[1m1/1\u001B[0m \u001B[32m━━━━━━━━━━━━━━━━━━━━\u001B[0m\u001B[37m\u001B[0m \u001B[1m0s\u001B[0m 94ms/step\n",
      "\u001B[1m1/1\u001B[0m \u001B[32m━━━━━━━━━━━━━━━━━━━━\u001B[0m\u001B[37m\u001B[0m \u001B[1m0s\u001B[0m 92ms/step\n",
      "\u001B[1m1/1\u001B[0m \u001B[32m━━━━━━━━━━━━━━━━━━━━\u001B[0m\u001B[37m\u001B[0m \u001B[1m0s\u001B[0m 79ms/step\n",
      "\u001B[1m1/1\u001B[0m \u001B[32m━━━━━━━━━━━━━━━━━━━━\u001B[0m\u001B[37m\u001B[0m \u001B[1m0s\u001B[0m 131ms/step\n",
      "\u001B[1m1/1\u001B[0m \u001B[32m━━━━━━━━━━━━━━━━━━━━\u001B[0m\u001B[37m\u001B[0m \u001B[1m0s\u001B[0m 84ms/step\n",
      "\u001B[1m1/1\u001B[0m \u001B[32m━━━━━━━━━━━━━━━━━━━━\u001B[0m\u001B[37m\u001B[0m \u001B[1m0s\u001B[0m 73ms/step\n",
      "\u001B[1m1/1\u001B[0m \u001B[32m━━━━━━━━━━━━━━━━━━━━\u001B[0m\u001B[37m\u001B[0m \u001B[1m0s\u001B[0m 76ms/step\n",
      "\u001B[1m1/1\u001B[0m \u001B[32m━━━━━━━━━━━━━━━━━━━━\u001B[0m\u001B[37m\u001B[0m \u001B[1m0s\u001B[0m 80ms/step\n",
      "\u001B[1m1/1\u001B[0m \u001B[32m━━━━━━━━━━━━━━━━━━━━\u001B[0m\u001B[37m\u001B[0m \u001B[1m0s\u001B[0m 87ms/step\n",
      "\u001B[1m1/1\u001B[0m \u001B[32m━━━━━━━━━━━━━━━━━━━━\u001B[0m\u001B[37m\u001B[0m \u001B[1m0s\u001B[0m 72ms/step\n",
      "\u001B[1m1/1\u001B[0m \u001B[32m━━━━━━━━━━━━━━━━━━━━\u001B[0m\u001B[37m\u001B[0m \u001B[1m0s\u001B[0m 79ms/step\n",
      "\u001B[1m1/1\u001B[0m \u001B[32m━━━━━━━━━━━━━━━━━━━━\u001B[0m\u001B[37m\u001B[0m \u001B[1m0s\u001B[0m 74ms/step\n",
      "\u001B[1m1/1\u001B[0m \u001B[32m━━━━━━━━━━━━━━━━━━━━\u001B[0m\u001B[37m\u001B[0m \u001B[1m0s\u001B[0m 83ms/step\n",
      "\u001B[1m1/1\u001B[0m \u001B[32m━━━━━━━━━━━━━━━━━━━━\u001B[0m\u001B[37m\u001B[0m \u001B[1m0s\u001B[0m 103ms/step\n",
      "\u001B[1m1/1\u001B[0m \u001B[32m━━━━━━━━━━━━━━━━━━━━\u001B[0m\u001B[37m\u001B[0m \u001B[1m0s\u001B[0m 88ms/step\n",
      "\u001B[1m1/1\u001B[0m \u001B[32m━━━━━━━━━━━━━━━━━━━━\u001B[0m\u001B[37m\u001B[0m \u001B[1m0s\u001B[0m 107ms/step\n",
      "\u001B[1m1/1\u001B[0m \u001B[32m━━━━━━━━━━━━━━━━━━━━\u001B[0m\u001B[37m\u001B[0m \u001B[1m0s\u001B[0m 105ms/step\n",
      "\u001B[1m1/1\u001B[0m \u001B[32m━━━━━━━━━━━━━━━━━━━━\u001B[0m\u001B[37m\u001B[0m \u001B[1m0s\u001B[0m 89ms/step\n",
      "\u001B[1m1/1\u001B[0m \u001B[32m━━━━━━━━━━━━━━━━━━━━\u001B[0m\u001B[37m\u001B[0m \u001B[1m0s\u001B[0m 70ms/step\n",
      "\u001B[1m1/1\u001B[0m \u001B[32m━━━━━━━━━━━━━━━━━━━━\u001B[0m\u001B[37m\u001B[0m \u001B[1m0s\u001B[0m 76ms/step\n",
      "\u001B[1m1/1\u001B[0m \u001B[32m━━━━━━━━━━━━━━━━━━━━\u001B[0m\u001B[37m\u001B[0m \u001B[1m0s\u001B[0m 95ms/step\n",
      "\u001B[1m1/1\u001B[0m \u001B[32m━━━━━━━━━━━━━━━━━━━━\u001B[0m\u001B[37m\u001B[0m \u001B[1m0s\u001B[0m 93ms/step\n",
      "\u001B[1m1/1\u001B[0m \u001B[32m━━━━━━━━━━━━━━━━━━━━\u001B[0m\u001B[37m\u001B[0m \u001B[1m0s\u001B[0m 75ms/step\n",
      "\u001B[1m1/1\u001B[0m \u001B[32m━━━━━━━━━━━━━━━━━━━━\u001B[0m\u001B[37m\u001B[0m \u001B[1m0s\u001B[0m 74ms/step\n",
      "\u001B[1m1/1\u001B[0m \u001B[32m━━━━━━━━━━━━━━━━━━━━\u001B[0m\u001B[37m\u001B[0m \u001B[1m0s\u001B[0m 79ms/step\n",
      "\u001B[1m1/1\u001B[0m \u001B[32m━━━━━━━━━━━━━━━━━━━━\u001B[0m\u001B[37m\u001B[0m \u001B[1m0s\u001B[0m 76ms/step\n",
      "\u001B[1m1/1\u001B[0m \u001B[32m━━━━━━━━━━━━━━━━━━━━\u001B[0m\u001B[37m\u001B[0m \u001B[1m0s\u001B[0m 72ms/step\n",
      "\u001B[1m1/1\u001B[0m \u001B[32m━━━━━━━━━━━━━━━━━━━━\u001B[0m\u001B[37m\u001B[0m \u001B[1m0s\u001B[0m 121ms/step\n",
      "\u001B[1m1/1\u001B[0m \u001B[32m━━━━━━━━━━━━━━━━━━━━\u001B[0m\u001B[37m\u001B[0m \u001B[1m0s\u001B[0m 74ms/step\n",
      "\u001B[1m1/1\u001B[0m \u001B[32m━━━━━━━━━━━━━━━━━━━━\u001B[0m\u001B[37m\u001B[0m \u001B[1m0s\u001B[0m 98ms/step\n",
      "\u001B[1m1/1\u001B[0m \u001B[32m━━━━━━━━━━━━━━━━━━━━\u001B[0m\u001B[37m\u001B[0m \u001B[1m0s\u001B[0m 80ms/step\n",
      "\u001B[1m1/1\u001B[0m \u001B[32m━━━━━━━━━━━━━━━━━━━━\u001B[0m\u001B[37m\u001B[0m \u001B[1m0s\u001B[0m 91ms/step\n",
      "\u001B[1m1/1\u001B[0m \u001B[32m━━━━━━━━━━━━━━━━━━━━\u001B[0m\u001B[37m\u001B[0m \u001B[1m0s\u001B[0m 78ms/step\n",
      "\u001B[1m1/1\u001B[0m \u001B[32m━━━━━━━━━━━━━━━━━━━━\u001B[0m\u001B[37m\u001B[0m \u001B[1m0s\u001B[0m 75ms/step\n",
      "\u001B[1m1/1\u001B[0m \u001B[32m━━━━━━━━━━━━━━━━━━━━\u001B[0m\u001B[37m\u001B[0m \u001B[1m0s\u001B[0m 70ms/step\n",
      "\u001B[1m1/1\u001B[0m \u001B[32m━━━━━━━━━━━━━━━━━━━━\u001B[0m\u001B[37m\u001B[0m \u001B[1m0s\u001B[0m 74ms/step\n",
      "\u001B[1m1/1\u001B[0m \u001B[32m━━━━━━━━━━━━━━━━━━━━\u001B[0m\u001B[37m\u001B[0m \u001B[1m0s\u001B[0m 71ms/step\n",
      "\u001B[1m1/1\u001B[0m \u001B[32m━━━━━━━━━━━━━━━━━━━━\u001B[0m\u001B[37m\u001B[0m \u001B[1m0s\u001B[0m 75ms/step\n",
      "\u001B[1m1/1\u001B[0m \u001B[32m━━━━━━━━━━━━━━━━━━━━\u001B[0m\u001B[37m\u001B[0m \u001B[1m0s\u001B[0m 80ms/step\n",
      "\u001B[1m1/1\u001B[0m \u001B[32m━━━━━━━━━━━━━━━━━━━━\u001B[0m\u001B[37m\u001B[0m \u001B[1m0s\u001B[0m 89ms/step\n",
      "\u001B[1m1/1\u001B[0m \u001B[32m━━━━━━━━━━━━━━━━━━━━\u001B[0m\u001B[37m\u001B[0m \u001B[1m0s\u001B[0m 72ms/step\n",
      "\u001B[1m1/1\u001B[0m \u001B[32m━━━━━━━━━━━━━━━━━━━━\u001B[0m\u001B[37m\u001B[0m \u001B[1m0s\u001B[0m 73ms/step\n",
      "\u001B[1m1/1\u001B[0m \u001B[32m━━━━━━━━━━━━━━━━━━━━\u001B[0m\u001B[37m\u001B[0m \u001B[1m0s\u001B[0m 84ms/step\n",
      "\u001B[1m1/1\u001B[0m \u001B[32m━━━━━━━━━━━━━━━━━━━━\u001B[0m\u001B[37m\u001B[0m \u001B[1m0s\u001B[0m 74ms/step\n",
      "\u001B[1m1/1\u001B[0m \u001B[32m━━━━━━━━━━━━━━━━━━━━\u001B[0m\u001B[37m\u001B[0m \u001B[1m0s\u001B[0m 71ms/step\n",
      "\u001B[1m1/1\u001B[0m \u001B[32m━━━━━━━━━━━━━━━━━━━━\u001B[0m\u001B[37m\u001B[0m \u001B[1m0s\u001B[0m 68ms/step\n",
      "\u001B[1m1/1\u001B[0m \u001B[32m━━━━━━━━━━━━━━━━━━━━\u001B[0m\u001B[37m\u001B[0m \u001B[1m0s\u001B[0m 74ms/step\n",
      "\u001B[1m1/1\u001B[0m \u001B[32m━━━━━━━━━━━━━━━━━━━━\u001B[0m\u001B[37m\u001B[0m \u001B[1m0s\u001B[0m 72ms/step\n",
      "\u001B[1m1/1\u001B[0m \u001B[32m━━━━━━━━━━━━━━━━━━━━\u001B[0m\u001B[37m\u001B[0m \u001B[1m0s\u001B[0m 76ms/step\n",
      "\u001B[1m1/1\u001B[0m \u001B[32m━━━━━━━━━━━━━━━━━━━━\u001B[0m\u001B[37m\u001B[0m \u001B[1m0s\u001B[0m 71ms/step\n",
      "\u001B[1m1/1\u001B[0m \u001B[32m━━━━━━━━━━━━━━━━━━━━\u001B[0m\u001B[37m\u001B[0m \u001B[1m0s\u001B[0m 67ms/step\n",
      "\u001B[1m1/1\u001B[0m \u001B[32m━━━━━━━━━━━━━━━━━━━━\u001B[0m\u001B[37m\u001B[0m \u001B[1m0s\u001B[0m 70ms/step\n",
      "\u001B[1m1/1\u001B[0m \u001B[32m━━━━━━━━━━━━━━━━━━━━\u001B[0m\u001B[37m\u001B[0m \u001B[1m0s\u001B[0m 70ms/step\n",
      "\u001B[1m1/1\u001B[0m \u001B[32m━━━━━━━━━━━━━━━━━━━━\u001B[0m\u001B[37m\u001B[0m \u001B[1m0s\u001B[0m 70ms/step\n",
      "\u001B[1m1/1\u001B[0m \u001B[32m━━━━━━━━━━━━━━━━━━━━\u001B[0m\u001B[37m\u001B[0m \u001B[1m0s\u001B[0m 73ms/step\n",
      "\u001B[1m1/1\u001B[0m \u001B[32m━━━━━━━━━━━━━━━━━━━━\u001B[0m\u001B[37m\u001B[0m \u001B[1m0s\u001B[0m 73ms/step\n",
      "\u001B[1m1/1\u001B[0m \u001B[32m━━━━━━━━━━━━━━━━━━━━\u001B[0m\u001B[37m\u001B[0m \u001B[1m0s\u001B[0m 74ms/step\n",
      "\u001B[1m1/1\u001B[0m \u001B[32m━━━━━━━━━━━━━━━━━━━━\u001B[0m\u001B[37m\u001B[0m \u001B[1m0s\u001B[0m 73ms/step\n",
      "\u001B[1m1/1\u001B[0m \u001B[32m━━━━━━━━━━━━━━━━━━━━\u001B[0m\u001B[37m\u001B[0m \u001B[1m0s\u001B[0m 80ms/step\n",
      "\u001B[1m1/1\u001B[0m \u001B[32m━━━━━━━━━━━━━━━━━━━━\u001B[0m\u001B[37m\u001B[0m \u001B[1m0s\u001B[0m 92ms/step\n",
      "\u001B[1m1/1\u001B[0m \u001B[32m━━━━━━━━━━━━━━━━━━━━\u001B[0m\u001B[37m\u001B[0m \u001B[1m0s\u001B[0m 82ms/step\n",
      "\u001B[1m1/1\u001B[0m \u001B[32m━━━━━━━━━━━━━━━━━━━━\u001B[0m\u001B[37m\u001B[0m \u001B[1m0s\u001B[0m 81ms/step\n",
      "\u001B[1m1/1\u001B[0m \u001B[32m━━━━━━━━━━━━━━━━━━━━\u001B[0m\u001B[37m\u001B[0m \u001B[1m0s\u001B[0m 91ms/step\n",
      "\u001B[1m1/1\u001B[0m \u001B[32m━━━━━━━━━━━━━━━━━━━━\u001B[0m\u001B[37m\u001B[0m \u001B[1m0s\u001B[0m 90ms/step\n",
      "\u001B[1m1/1\u001B[0m \u001B[32m━━━━━━━━━━━━━━━━━━━━\u001B[0m\u001B[37m\u001B[0m \u001B[1m0s\u001B[0m 82ms/step\n",
      "\u001B[1m1/1\u001B[0m \u001B[32m━━━━━━━━━━━━━━━━━━━━\u001B[0m\u001B[37m\u001B[0m \u001B[1m0s\u001B[0m 77ms/step\n",
      "\u001B[1m1/1\u001B[0m \u001B[32m━━━━━━━━━━━━━━━━━━━━\u001B[0m\u001B[37m\u001B[0m \u001B[1m0s\u001B[0m 68ms/step\n",
      "\u001B[1m1/1\u001B[0m \u001B[32m━━━━━━━━━━━━━━━━━━━━\u001B[0m\u001B[37m\u001B[0m \u001B[1m0s\u001B[0m 74ms/step\n",
      "\u001B[1m1/1\u001B[0m \u001B[32m━━━━━━━━━━━━━━━━━━━━\u001B[0m\u001B[37m\u001B[0m \u001B[1m0s\u001B[0m 79ms/step\n",
      "\u001B[1m1/1\u001B[0m \u001B[32m━━━━━━━━━━━━━━━━━━━━\u001B[0m\u001B[37m\u001B[0m \u001B[1m0s\u001B[0m 73ms/step\n",
      "\u001B[1m1/1\u001B[0m \u001B[32m━━━━━━━━━━━━━━━━━━━━\u001B[0m\u001B[37m\u001B[0m \u001B[1m0s\u001B[0m 75ms/step\n",
      "\u001B[1m1/1\u001B[0m \u001B[32m━━━━━━━━━━━━━━━━━━━━\u001B[0m\u001B[37m\u001B[0m \u001B[1m0s\u001B[0m 108ms/step\n",
      "\u001B[1m1/1\u001B[0m \u001B[32m━━━━━━━━━━━━━━━━━━━━\u001B[0m\u001B[37m\u001B[0m \u001B[1m0s\u001B[0m 95ms/step\n",
      "\u001B[1m1/1\u001B[0m \u001B[32m━━━━━━━━━━━━━━━━━━━━\u001B[0m\u001B[37m\u001B[0m \u001B[1m0s\u001B[0m 75ms/step\n",
      "\u001B[1m1/1\u001B[0m \u001B[32m━━━━━━━━━━━━━━━━━━━━\u001B[0m\u001B[37m\u001B[0m \u001B[1m0s\u001B[0m 80ms/step\n",
      "\u001B[1m1/1\u001B[0m \u001B[32m━━━━━━━━━━━━━━━━━━━━\u001B[0m\u001B[37m\u001B[0m \u001B[1m0s\u001B[0m 71ms/step\n",
      "\u001B[1m1/1\u001B[0m \u001B[32m━━━━━━━━━━━━━━━━━━━━\u001B[0m\u001B[37m\u001B[0m \u001B[1m0s\u001B[0m 81ms/step\n",
      "\u001B[1m1/1\u001B[0m \u001B[32m━━━━━━━━━━━━━━━━━━━━\u001B[0m\u001B[37m\u001B[0m \u001B[1m0s\u001B[0m 71ms/step\n",
      "\u001B[1m1/1\u001B[0m \u001B[32m━━━━━━━━━━━━━━━━━━━━\u001B[0m\u001B[37m\u001B[0m \u001B[1m0s\u001B[0m 87ms/step\n",
      "\u001B[1m1/1\u001B[0m \u001B[32m━━━━━━━━━━━━━━━━━━━━\u001B[0m\u001B[37m\u001B[0m \u001B[1m0s\u001B[0m 76ms/step\n",
      "\u001B[1m1/1\u001B[0m \u001B[32m━━━━━━━━━━━━━━━━━━━━\u001B[0m\u001B[37m\u001B[0m \u001B[1m0s\u001B[0m 78ms/step\n",
      "\u001B[1m1/1\u001B[0m \u001B[32m━━━━━━━━━━━━━━━━━━━━\u001B[0m\u001B[37m\u001B[0m \u001B[1m0s\u001B[0m 88ms/step\n",
      "\u001B[1m1/1\u001B[0m \u001B[32m━━━━━━━━━━━━━━━━━━━━\u001B[0m\u001B[37m\u001B[0m \u001B[1m0s\u001B[0m 75ms/step\n",
      "\u001B[1m1/1\u001B[0m \u001B[32m━━━━━━━━━━━━━━━━━━━━\u001B[0m\u001B[37m\u001B[0m \u001B[1m0s\u001B[0m 91ms/step\n",
      "\u001B[1m1/1\u001B[0m \u001B[32m━━━━━━━━━━━━━━━━━━━━\u001B[0m\u001B[37m\u001B[0m \u001B[1m0s\u001B[0m 76ms/step\n",
      "\u001B[1m1/1\u001B[0m \u001B[32m━━━━━━━━━━━━━━━━━━━━\u001B[0m\u001B[37m\u001B[0m \u001B[1m0s\u001B[0m 91ms/step\n",
      "\u001B[1m1/1\u001B[0m \u001B[32m━━━━━━━━━━━━━━━━━━━━\u001B[0m\u001B[37m\u001B[0m \u001B[1m0s\u001B[0m 76ms/step\n",
      "\u001B[1m1/1\u001B[0m \u001B[32m━━━━━━━━━━━━━━━━━━━━\u001B[0m\u001B[37m\u001B[0m \u001B[1m0s\u001B[0m 97ms/step\n",
      "\u001B[1m1/1\u001B[0m \u001B[32m━━━━━━━━━━━━━━━━━━━━\u001B[0m\u001B[37m\u001B[0m \u001B[1m0s\u001B[0m 79ms/step\n",
      "\u001B[1m1/1\u001B[0m \u001B[32m━━━━━━━━━━━━━━━━━━━━\u001B[0m\u001B[37m\u001B[0m \u001B[1m0s\u001B[0m 70ms/step\n",
      "\u001B[1m1/1\u001B[0m \u001B[32m━━━━━━━━━━━━━━━━━━━━\u001B[0m\u001B[37m\u001B[0m \u001B[1m0s\u001B[0m 78ms/step\n",
      "\u001B[1m1/1\u001B[0m \u001B[32m━━━━━━━━━━━━━━━━━━━━\u001B[0m\u001B[37m\u001B[0m \u001B[1m0s\u001B[0m 73ms/step\n",
      "\u001B[1m1/1\u001B[0m \u001B[32m━━━━━━━━━━━━━━━━━━━━\u001B[0m\u001B[37m\u001B[0m \u001B[1m0s\u001B[0m 73ms/step\n",
      "\u001B[1m1/1\u001B[0m \u001B[32m━━━━━━━━━━━━━━━━━━━━\u001B[0m\u001B[37m\u001B[0m \u001B[1m0s\u001B[0m 75ms/step\n",
      "\u001B[1m1/1\u001B[0m \u001B[32m━━━━━━━━━━━━━━━━━━━━\u001B[0m\u001B[37m\u001B[0m \u001B[1m0s\u001B[0m 81ms/step\n",
      "\u001B[1m1/1\u001B[0m \u001B[32m━━━━━━━━━━━━━━━━━━━━\u001B[0m\u001B[37m\u001B[0m \u001B[1m0s\u001B[0m 78ms/step\n",
      "\u001B[1m1/1\u001B[0m \u001B[32m━━━━━━━━━━━━━━━━━━━━\u001B[0m\u001B[37m\u001B[0m \u001B[1m0s\u001B[0m 71ms/step\n",
      "\u001B[1m1/1\u001B[0m \u001B[32m━━━━━━━━━━━━━━━━━━━━\u001B[0m\u001B[37m\u001B[0m \u001B[1m0s\u001B[0m 86ms/step\n",
      "\u001B[1m1/1\u001B[0m \u001B[32m━━━━━━━━━━━━━━━━━━━━\u001B[0m\u001B[37m\u001B[0m \u001B[1m0s\u001B[0m 93ms/step\n",
      "\u001B[1m1/1\u001B[0m \u001B[32m━━━━━━━━━━━━━━━━━━━━\u001B[0m\u001B[37m\u001B[0m \u001B[1m0s\u001B[0m 90ms/step\n",
      "\u001B[1m1/1\u001B[0m \u001B[32m━━━━━━━━━━━━━━━━━━━━\u001B[0m\u001B[37m\u001B[0m \u001B[1m0s\u001B[0m 75ms/step\n",
      "\u001B[1m1/1\u001B[0m \u001B[32m━━━━━━━━━━━━━━━━━━━━\u001B[0m\u001B[37m\u001B[0m \u001B[1m0s\u001B[0m 81ms/step\n",
      "\u001B[1m1/1\u001B[0m \u001B[32m━━━━━━━━━━━━━━━━━━━━\u001B[0m\u001B[37m\u001B[0m \u001B[1m0s\u001B[0m 80ms/step\n",
      "\u001B[1m1/1\u001B[0m \u001B[32m━━━━━━━━━━━━━━━━━━━━\u001B[0m\u001B[37m\u001B[0m \u001B[1m0s\u001B[0m 77ms/step\n",
      "\u001B[1m1/1\u001B[0m \u001B[32m━━━━━━━━━━━━━━━━━━━━\u001B[0m\u001B[37m\u001B[0m \u001B[1m0s\u001B[0m 83ms/step\n",
      "\u001B[1m1/1\u001B[0m \u001B[32m━━━━━━━━━━━━━━━━━━━━\u001B[0m\u001B[37m\u001B[0m \u001B[1m0s\u001B[0m 75ms/step\n",
      "\u001B[1m1/1\u001B[0m \u001B[32m━━━━━━━━━━━━━━━━━━━━\u001B[0m\u001B[37m\u001B[0m \u001B[1m0s\u001B[0m 76ms/step\n",
      "\u001B[1m1/1\u001B[0m \u001B[32m━━━━━━━━━━━━━━━━━━━━\u001B[0m\u001B[37m\u001B[0m \u001B[1m0s\u001B[0m 74ms/step\n",
      "\u001B[1m1/1\u001B[0m \u001B[32m━━━━━━━━━━━━━━━━━━━━\u001B[0m\u001B[37m\u001B[0m \u001B[1m0s\u001B[0m 81ms/step\n",
      "\u001B[1m1/1\u001B[0m \u001B[32m━━━━━━━━━━━━━━━━━━━━\u001B[0m\u001B[37m\u001B[0m \u001B[1m0s\u001B[0m 78ms/step\n",
      "\u001B[1m1/1\u001B[0m \u001B[32m━━━━━━━━━━━━━━━━━━━━\u001B[0m\u001B[37m\u001B[0m \u001B[1m0s\u001B[0m 89ms/step\n",
      "\u001B[1m1/1\u001B[0m \u001B[32m━━━━━━━━━━━━━━━━━━━━\u001B[0m\u001B[37m\u001B[0m \u001B[1m0s\u001B[0m 84ms/step\n",
      "\u001B[1m1/1\u001B[0m \u001B[32m━━━━━━━━━━━━━━━━━━━━\u001B[0m\u001B[37m\u001B[0m \u001B[1m0s\u001B[0m 87ms/step\n",
      "\u001B[1m1/1\u001B[0m \u001B[32m━━━━━━━━━━━━━━━━━━━━\u001B[0m\u001B[37m\u001B[0m \u001B[1m0s\u001B[0m 105ms/step\n",
      "\u001B[1m1/1\u001B[0m \u001B[32m━━━━━━━━━━━━━━━━━━━━\u001B[0m\u001B[37m\u001B[0m \u001B[1m0s\u001B[0m 107ms/step\n",
      "\u001B[1m1/1\u001B[0m \u001B[32m━━━━━━━━━━━━━━━━━━━━\u001B[0m\u001B[37m\u001B[0m \u001B[1m0s\u001B[0m 76ms/step\n",
      "\u001B[1m1/1\u001B[0m \u001B[32m━━━━━━━━━━━━━━━━━━━━\u001B[0m\u001B[37m\u001B[0m \u001B[1m0s\u001B[0m 79ms/step\n",
      "\u001B[1m1/1\u001B[0m \u001B[32m━━━━━━━━━━━━━━━━━━━━\u001B[0m\u001B[37m\u001B[0m \u001B[1m0s\u001B[0m 80ms/step\n",
      "\u001B[1m1/1\u001B[0m \u001B[32m━━━━━━━━━━━━━━━━━━━━\u001B[0m\u001B[37m\u001B[0m \u001B[1m0s\u001B[0m 74ms/step\n",
      "\u001B[1m1/1\u001B[0m \u001B[32m━━━━━━━━━━━━━━━━━━━━\u001B[0m\u001B[37m\u001B[0m \u001B[1m0s\u001B[0m 92ms/step\n",
      "\u001B[1m1/1\u001B[0m \u001B[32m━━━━━━━━━━━━━━━━━━━━\u001B[0m\u001B[37m\u001B[0m \u001B[1m0s\u001B[0m 76ms/step\n",
      "\u001B[1m1/1\u001B[0m \u001B[32m━━━━━━━━━━━━━━━━━━━━\u001B[0m\u001B[37m\u001B[0m \u001B[1m0s\u001B[0m 78ms/step\n",
      "\u001B[1m1/1\u001B[0m \u001B[32m━━━━━━━━━━━━━━━━━━━━\u001B[0m\u001B[37m\u001B[0m \u001B[1m0s\u001B[0m 73ms/step\n",
      "\u001B[1m1/1\u001B[0m \u001B[32m━━━━━━━━━━━━━━━━━━━━\u001B[0m\u001B[37m\u001B[0m \u001B[1m0s\u001B[0m 71ms/step\n",
      "\u001B[1m1/1\u001B[0m \u001B[32m━━━━━━━━━━━━━━━━━━━━\u001B[0m\u001B[37m\u001B[0m \u001B[1m0s\u001B[0m 70ms/step\n",
      "\u001B[1m1/1\u001B[0m \u001B[32m━━━━━━━━━━━━━━━━━━━━\u001B[0m\u001B[37m\u001B[0m \u001B[1m0s\u001B[0m 85ms/step\n",
      "\u001B[1m1/1\u001B[0m \u001B[32m━━━━━━━━━━━━━━━━━━━━\u001B[0m\u001B[37m\u001B[0m \u001B[1m0s\u001B[0m 95ms/step\n",
      "\u001B[1m1/1\u001B[0m \u001B[32m━━━━━━━━━━━━━━━━━━━━\u001B[0m\u001B[37m\u001B[0m \u001B[1m0s\u001B[0m 96ms/step\n",
      "\u001B[1m1/1\u001B[0m \u001B[32m━━━━━━━━━━━━━━━━━━━━\u001B[0m\u001B[37m\u001B[0m \u001B[1m0s\u001B[0m 100ms/step\n",
      "\u001B[1m1/1\u001B[0m \u001B[32m━━━━━━━━━━━━━━━━━━━━\u001B[0m\u001B[37m\u001B[0m \u001B[1m0s\u001B[0m 122ms/step\n",
      "\u001B[1m1/1\u001B[0m \u001B[32m━━━━━━━━━━━━━━━━━━━━\u001B[0m\u001B[37m\u001B[0m \u001B[1m0s\u001B[0m 76ms/step\n",
      "\u001B[1m1/1\u001B[0m \u001B[32m━━━━━━━━━━━━━━━━━━━━\u001B[0m\u001B[37m\u001B[0m \u001B[1m0s\u001B[0m 75ms/step\n",
      "\u001B[1m1/1\u001B[0m \u001B[32m━━━━━━━━━━━━━━━━━━━━\u001B[0m\u001B[37m\u001B[0m \u001B[1m0s\u001B[0m 75ms/step\n",
      "\u001B[1m1/1\u001B[0m \u001B[32m━━━━━━━━━━━━━━━━━━━━\u001B[0m\u001B[37m\u001B[0m \u001B[1m0s\u001B[0m 73ms/step\n",
      "\u001B[1m1/1\u001B[0m \u001B[32m━━━━━━━━━━━━━━━━━━━━\u001B[0m\u001B[37m\u001B[0m \u001B[1m0s\u001B[0m 75ms/step\n",
      "\u001B[1m1/1\u001B[0m \u001B[32m━━━━━━━━━━━━━━━━━━━━\u001B[0m\u001B[37m\u001B[0m \u001B[1m0s\u001B[0m 77ms/step\n",
      "\u001B[1m1/1\u001B[0m \u001B[32m━━━━━━━━━━━━━━━━━━━━\u001B[0m\u001B[37m\u001B[0m \u001B[1m0s\u001B[0m 86ms/step\n",
      "\u001B[1m1/1\u001B[0m \u001B[32m━━━━━━━━━━━━━━━━━━━━\u001B[0m\u001B[37m\u001B[0m \u001B[1m0s\u001B[0m 84ms/step\n",
      "\u001B[1m1/1\u001B[0m \u001B[32m━━━━━━━━━━━━━━━━━━━━\u001B[0m\u001B[37m\u001B[0m \u001B[1m0s\u001B[0m 84ms/step\n",
      "\u001B[1m1/1\u001B[0m \u001B[32m━━━━━━━━━━━━━━━━━━━━\u001B[0m\u001B[37m\u001B[0m \u001B[1m0s\u001B[0m 76ms/step\n",
      "\u001B[1m1/1\u001B[0m \u001B[32m━━━━━━━━━━━━━━━━━━━━\u001B[0m\u001B[37m\u001B[0m \u001B[1m0s\u001B[0m 80ms/step\n",
      "\u001B[1m1/1\u001B[0m \u001B[32m━━━━━━━━━━━━━━━━━━━━\u001B[0m\u001B[37m\u001B[0m \u001B[1m0s\u001B[0m 82ms/step\n",
      "\u001B[1m1/1\u001B[0m \u001B[32m━━━━━━━━━━━━━━━━━━━━\u001B[0m\u001B[37m\u001B[0m \u001B[1m0s\u001B[0m 76ms/step\n",
      "\u001B[1m1/1\u001B[0m \u001B[32m━━━━━━━━━━━━━━━━━━━━\u001B[0m\u001B[37m\u001B[0m \u001B[1m0s\u001B[0m 79ms/step\n",
      "\u001B[1m1/1\u001B[0m \u001B[32m━━━━━━━━━━━━━━━━━━━━\u001B[0m\u001B[37m\u001B[0m \u001B[1m0s\u001B[0m 72ms/step\n",
      "\u001B[1m1/1\u001B[0m \u001B[32m━━━━━━━━━━━━━━━━━━━━\u001B[0m\u001B[37m\u001B[0m \u001B[1m0s\u001B[0m 112ms/step\n",
      "\u001B[1m1/1\u001B[0m \u001B[32m━━━━━━━━━━━━━━━━━━━━\u001B[0m\u001B[37m\u001B[0m \u001B[1m0s\u001B[0m 82ms/step\n",
      "\u001B[1m1/1\u001B[0m \u001B[32m━━━━━━━━━━━━━━━━━━━━\u001B[0m\u001B[37m\u001B[0m \u001B[1m0s\u001B[0m 80ms/step\n",
      "\u001B[1m1/1\u001B[0m \u001B[32m━━━━━━━━━━━━━━━━━━━━\u001B[0m\u001B[37m\u001B[0m \u001B[1m0s\u001B[0m 75ms/step\n",
      "\u001B[1m1/1\u001B[0m \u001B[32m━━━━━━━━━━━━━━━━━━━━\u001B[0m\u001B[37m\u001B[0m \u001B[1m0s\u001B[0m 75ms/step\n",
      "\u001B[1m1/1\u001B[0m \u001B[32m━━━━━━━━━━━━━━━━━━━━\u001B[0m\u001B[37m\u001B[0m \u001B[1m0s\u001B[0m 72ms/step\n",
      "\u001B[1m1/1\u001B[0m \u001B[32m━━━━━━━━━━━━━━━━━━━━\u001B[0m\u001B[37m\u001B[0m \u001B[1m0s\u001B[0m 75ms/step\n",
      "\u001B[1m1/1\u001B[0m \u001B[32m━━━━━━━━━━━━━━━━━━━━\u001B[0m\u001B[37m\u001B[0m \u001B[1m0s\u001B[0m 76ms/step\n",
      "\u001B[1m1/1\u001B[0m \u001B[32m━━━━━━━━━━━━━━━━━━━━\u001B[0m\u001B[37m\u001B[0m \u001B[1m0s\u001B[0m 76ms/step\n",
      "\u001B[1m1/1\u001B[0m \u001B[32m━━━━━━━━━━━━━━━━━━━━\u001B[0m\u001B[37m\u001B[0m \u001B[1m0s\u001B[0m 81ms/step\n",
      "\u001B[1m1/1\u001B[0m \u001B[32m━━━━━━━━━━━━━━━━━━━━\u001B[0m\u001B[37m\u001B[0m \u001B[1m0s\u001B[0m 87ms/step\n",
      "\u001B[1m1/1\u001B[0m \u001B[32m━━━━━━━━━━━━━━━━━━━━\u001B[0m\u001B[37m\u001B[0m \u001B[1m0s\u001B[0m 81ms/step\n",
      "\u001B[1m1/1\u001B[0m \u001B[32m━━━━━━━━━━━━━━━━━━━━\u001B[0m\u001B[37m\u001B[0m \u001B[1m0s\u001B[0m 86ms/step\n",
      "\u001B[1m1/1\u001B[0m \u001B[32m━━━━━━━━━━━━━━━━━━━━\u001B[0m\u001B[37m\u001B[0m \u001B[1m0s\u001B[0m 72ms/step\n",
      "\u001B[1m1/1\u001B[0m \u001B[32m━━━━━━━━━━━━━━━━━━━━\u001B[0m\u001B[37m\u001B[0m \u001B[1m0s\u001B[0m 84ms/step\n",
      "\u001B[1m1/1\u001B[0m \u001B[32m━━━━━━━━━━━━━━━━━━━━\u001B[0m\u001B[37m\u001B[0m \u001B[1m0s\u001B[0m 73ms/step\n",
      "\u001B[1m1/1\u001B[0m \u001B[32m━━━━━━━━━━━━━━━━━━━━\u001B[0m\u001B[37m\u001B[0m \u001B[1m0s\u001B[0m 84ms/step\n",
      "\u001B[1m1/1\u001B[0m \u001B[32m━━━━━━━━━━━━━━━━━━━━\u001B[0m\u001B[37m\u001B[0m \u001B[1m0s\u001B[0m 74ms/step\n",
      "\u001B[1m1/1\u001B[0m \u001B[32m━━━━━━━━━━━━━━━━━━━━\u001B[0m\u001B[37m\u001B[0m \u001B[1m0s\u001B[0m 80ms/step\n",
      "\u001B[1m1/1\u001B[0m \u001B[32m━━━━━━━━━━━━━━━━━━━━\u001B[0m\u001B[37m\u001B[0m \u001B[1m0s\u001B[0m 85ms/step\n",
      "\u001B[1m1/1\u001B[0m \u001B[32m━━━━━━━━━━━━━━━━━━━━\u001B[0m\u001B[37m\u001B[0m \u001B[1m0s\u001B[0m 79ms/step\n",
      "\u001B[1m1/1\u001B[0m \u001B[32m━━━━━━━━━━━━━━━━━━━━\u001B[0m\u001B[37m\u001B[0m \u001B[1m0s\u001B[0m 81ms/step\n",
      "\u001B[1m1/1\u001B[0m \u001B[32m━━━━━━━━━━━━━━━━━━━━\u001B[0m\u001B[37m\u001B[0m \u001B[1m0s\u001B[0m 79ms/step\n",
      "\u001B[1m1/1\u001B[0m \u001B[32m━━━━━━━━━━━━━━━━━━━━\u001B[0m\u001B[37m\u001B[0m \u001B[1m0s\u001B[0m 76ms/step\n",
      "\u001B[1m1/1\u001B[0m \u001B[32m━━━━━━━━━━━━━━━━━━━━\u001B[0m\u001B[37m\u001B[0m \u001B[1m0s\u001B[0m 73ms/step\n",
      "\u001B[1m1/1\u001B[0m \u001B[32m━━━━━━━━━━━━━━━━━━━━\u001B[0m\u001B[37m\u001B[0m \u001B[1m0s\u001B[0m 83ms/step\n",
      "\u001B[1m1/1\u001B[0m \u001B[32m━━━━━━━━━━━━━━━━━━━━\u001B[0m\u001B[37m\u001B[0m \u001B[1m0s\u001B[0m 81ms/step\n",
      "\u001B[1m1/1\u001B[0m \u001B[32m━━━━━━━━━━━━━━━━━━━━\u001B[0m\u001B[37m\u001B[0m \u001B[1m0s\u001B[0m 77ms/step\n",
      "\u001B[1m1/1\u001B[0m \u001B[32m━━━━━━━━━━━━━━━━━━━━\u001B[0m\u001B[37m\u001B[0m \u001B[1m0s\u001B[0m 85ms/step\n",
      "\u001B[1m1/1\u001B[0m \u001B[32m━━━━━━━━━━━━━━━━━━━━\u001B[0m\u001B[37m\u001B[0m \u001B[1m0s\u001B[0m 86ms/step\n",
      "\u001B[1m1/1\u001B[0m \u001B[32m━━━━━━━━━━━━━━━━━━━━\u001B[0m\u001B[37m\u001B[0m \u001B[1m0s\u001B[0m 96ms/step\n",
      "\u001B[1m1/1\u001B[0m \u001B[32m━━━━━━━━━━━━━━━━━━━━\u001B[0m\u001B[37m\u001B[0m \u001B[1m0s\u001B[0m 80ms/step\n",
      "\u001B[1m1/1\u001B[0m \u001B[32m━━━━━━━━━━━━━━━━━━━━\u001B[0m\u001B[37m\u001B[0m \u001B[1m0s\u001B[0m 85ms/step\n",
      "\u001B[1m1/1\u001B[0m \u001B[32m━━━━━━━━━━━━━━━━━━━━\u001B[0m\u001B[37m\u001B[0m \u001B[1m0s\u001B[0m 80ms/step\n",
      "\u001B[1m1/1\u001B[0m \u001B[32m━━━━━━━━━━━━━━━━━━━━\u001B[0m\u001B[37m\u001B[0m \u001B[1m0s\u001B[0m 81ms/step\n",
      "\u001B[1m1/1\u001B[0m \u001B[32m━━━━━━━━━━━━━━━━━━━━\u001B[0m\u001B[37m\u001B[0m \u001B[1m0s\u001B[0m 87ms/step\n",
      "\u001B[1m1/1\u001B[0m \u001B[32m━━━━━━━━━━━━━━━━━━━━\u001B[0m\u001B[37m\u001B[0m \u001B[1m0s\u001B[0m 79ms/step\n"
     ]
    }
   ],
   "execution_count": 19
  },
  {
   "metadata": {
    "ExecuteTime": {
     "end_time": "2025-09-02T18:39:59.222967Z",
     "start_time": "2025-09-02T18:39:55.568986Z"
    }
   },
   "cell_type": "code",
   "source": [
    "chorale = new_chorale.tolist()\n",
    "s=stream.Stream()\n",
    "for row in chorale:\n",
    "    s.append(chord.Chord([n for n in row if n],quarterLength=1))\n",
    "\n",
    "s.show('midi')"
   ],
   "id": "15df72533bb8e476",
   "outputs": [
    {
     "data": {
      "text/plain": [
       "<IPython.core.display.HTML object>"
      ],
      "text/html": [
       "\n",
       "        <div id=\"midiPlayerDiv2364\"></div>\n",
       "        <link rel=\"stylesheet\" href=\"https://cuthbertLab.github.io/music21j/css/m21.css\">\n",
       "        \n",
       "        <script\n",
       "        src=\"https://cdnjs.cloudflare.com/ajax/libs/require.js/2.3.6/require.min.js\"\n",
       "        ></script>\n",
       "    \n",
       "        <script>\n",
       "        function midiPlayerDiv2364_play() {\n",
       "            const rq = require.config({\n",
       "                paths: {\n",
       "                    'music21': 'https://cuthbertLab.github.io/music21j/releases/music21.debug',\n",
       "                }\n",
       "            });\n",
       "            rq(['music21'], function(music21) {\n",
       "                mp = new music21.miditools.MidiPlayer();\n",
       "                mp.addPlayer(\"#midiPlayerDiv2364\");\n",
       "                mp.base64Load(\"data:audio/midi;base64,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\");\n",
       "            });\n",
       "        }\n",
       "        if (typeof require === 'undefined') {\n",
       "            setTimeout(midiPlayerDiv2364_play, 2000);\n",
       "        } else {\n",
       "            midiPlayerDiv2364_play();\n",
       "        }\n",
       "        </script>"
      ]
     },
     "metadata": {},
     "output_type": "display_data"
    }
   ],
   "execution_count": 20
  }
 ],
 "metadata": {
  "kernelspec": {
   "display_name": "Python 3",
   "language": "python",
   "name": "python3"
  },
  "language_info": {
   "codemirror_mode": {
    "name": "ipython",
    "version": 2
   },
   "file_extension": ".py",
   "mimetype": "text/x-python",
   "name": "python",
   "nbconvert_exporter": "python",
   "pygments_lexer": "ipython2",
   "version": "2.7.6"
  }
 },
 "nbformat": 4,
 "nbformat_minor": 5
}
